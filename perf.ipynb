{
 "cells": [
  {
   "cell_type": "code",
   "execution_count": null,
   "metadata": {},
   "outputs": [],
   "source": [
    "from kode.data.datagen import HeartSoundDataGenerator\n",
    "from keras.models import load_model\n",
    "from kode.utils.sig_util import *\n",
    "\n",
    "mdl_path = \"callbacks\\\\synthetic\\\\model_chkpoint\\\\model_f_9_ta_1.00000_va_1.00000.h5\"\n",
    "dataset = \"synthetic\"\n",
    "db_path = f\"dataset\\\\{dataset}\""
   ]
  },
  {
   "cell_type": "code",
   "execution_count": null,
   "metadata": {},
   "outputs": [],
   "source": [
    "model = load_model(mdl_path)"
   ]
  },
  {
   "cell_type": "code",
   "execution_count": null,
   "metadata": {},
   "outputs": [],
   "source": [
    "generator = HeartSoundDataGenerator(dataset, db_path)\n",
    "data = generator.get_data()\n",
    "\n",
    "audio_data = np.array(data[0])\n",
    "label_data = np.array(data[1]).astype(np.float32)\n",
    "\n",
    "print(audio_data.shape)\n",
    "\n",
    "audio_data = audio_data[:500]\n",
    "label_data = label_data[:500]\n",
    "\n",
    "signals = extract_audio_data(audio_data, 1000)\n",
    "\n",
    "signals = extract_signals(signals)\n",
    "\n",
    "signals, label_data = remove_inconsistent_signals(signals, label_data)\n",
    "\n",
    "signals = np.array(signals)\n",
    "\n",
    "feat_data = (signals - np.min(signals)) / (np.max(signals) - np.min(signals))\n",
    "\n",
    "label_data = np.array(label_data)\n",
    "\n",
    "X = feat_data\n",
    "y = label_data"
   ]
  },
  {
   "cell_type": "code",
   "execution_count": null,
   "metadata": {},
   "outputs": [],
   "source": [
    "T = 0.5\n",
    "y_oh = model.predict(X)\n",
    "y_pred = (y_oh >= T).astype(int)\n",
    "\n",
    "# y_oh = model.predict(X)\n",
    "# y_pred = np.argmax(y_oh, axis=1)"
   ]
  },
  {
   "cell_type": "code",
   "execution_count": null,
   "metadata": {},
   "outputs": [],
   "source": [
    "# from sklearn.metrics import classification_report, confusion_matrix\n",
    "\n",
    "# report = classification_report(y, y_pred, output_dict=True)\n",
    "\n",
    "# for label, metrics in report.items():\n",
    "#     if label.isdigit():  # check if the key is a digit (class label)\n",
    "#         print(f\"Class {label}:\")\n",
    "#         print(f\"  F1 Score: {metrics['f1-score']}\")\n",
    "#         print(f\"  Sensitivity (Recall): {metrics['recall']}\")\n",
    "\n",
    "# # For specificity, we need to calculate it manually\n",
    "# cm = confusion_matrix(y, y_pred)\n",
    "# FP = cm.sum(axis=0) - np.diag(cm)\n",
    "# TN = cm.sum() - (cm.sum(axis=1) + FP)\n",
    "# specificity = TN/(TN+FP)\n",
    "\n",
    "# # print confision matrix for each class\n",
    "# print(cm)\n",
    "\n",
    "# for i, spec in enumerate(specificity):\n",
    "#     print(f\"Class {i} Specificity: {spec}\")\n",
    "\n",
    "# # For sensitivity, we can use the recall value from the classification report\n",
    "# FN = cm.sum(axis=1) - np.diag(cm)\n",
    "# TP = np.diag(cm)\n",
    "# sensitivity = TP/(TP+FN)\n",
    "\n",
    "# for i, sens in enumerate(sensitivity):\n",
    "#     print(f\"Class {i} Sensitivity: {sens}\")"
   ]
  },
  {
   "cell_type": "markdown",
   "metadata": {},
   "source": [
    "#### F1 Score"
   ]
  },
  {
   "cell_type": "code",
   "execution_count": null,
   "metadata": {},
   "outputs": [],
   "source": [
    "from sklearn.metrics import f1_score\n",
    "\n",
    "f1 = f1_score(y, y_pred)\n",
    "\n",
    "print(f1)"
   ]
  },
  {
   "cell_type": "markdown",
   "metadata": {},
   "source": [
    "#### CF"
   ]
  },
  {
   "cell_type": "code",
   "execution_count": null,
   "metadata": {},
   "outputs": [],
   "source": [
    "from sklearn.metrics import confusion_matrix\n",
    "\n",
    "tn, fp, fn, tp = confusion_matrix(y, y_pred).ravel()\n",
    "\n",
    "print(tn, fp, fn, tp)"
   ]
  },
  {
   "cell_type": "markdown",
   "metadata": {},
   "source": [
    "#### Sensitivity & Specificity"
   ]
  },
  {
   "cell_type": "code",
   "execution_count": null,
   "metadata": {},
   "outputs": [],
   "source": [
    "sensitivity = tp / (tp + fn)\n",
    "specificity = tn / (tn + fp)\n",
    "\n",
    "print(f\"Sensitivity: {sensitivity}\")\n",
    "print(f\"Specificity: {specificity}\")"
   ]
  },
  {
   "cell_type": "code",
   "execution_count": 2,
   "metadata": {},
   "outputs": [
    {
     "name": "stdout",
     "output_type": "stream",
     "text": [
      "Total number of parameters: tf.Tensor(1470806, shape=(), dtype=int32)\n"
     ]
    }
   ],
   "source": [
    "import tensorflow as tf\n",
    "\n",
    "interpreter = tf.lite.Interpreter(model_path=\"callbacks\\\\Param_4145\\\\bently\\\\tflite_model\\\\model.tflite\")\n",
    "interpreter.allocate_tensors()\n",
    "\n",
    "total_params = sum([tf.reduce_prod(tensor['shape']) for tensor in interpreter.get_tensor_details()])\n",
    "\n",
    "print(\"Total number of parameters:\", total_params)"
   ]
  }
 ],
 "metadata": {
  "kernelspec": {
   "display_name": "Python 3 (ipykernel)",
   "language": "python",
   "name": "python3"
  },
  "language_info": {
   "codemirror_mode": {
    "name": "ipython",
    "version": 3
   },
   "file_extension": ".py",
   "mimetype": "text/x-python",
   "name": "python",
   "nbconvert_exporter": "python",
   "pygments_lexer": "ipython3",
   "version": "3.10.13"
  }
 },
 "nbformat": 4,
 "nbformat_minor": 4
}
